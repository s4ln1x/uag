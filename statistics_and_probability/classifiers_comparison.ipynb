{
 "cells": [
  {
   "cell_type": "markdown",
   "metadata": {},
   "source": [
    "# Comparación de clasificadores\n",
    "\n",
    "Una de las tareas de la Minería de Datos es la clasificación o la discriminación de datos; asociándolos en parejas o en grupos predefinidos; aprendizaje supervisado. Esta tarea es encontrar modelos (funciones) que describen y distinguen clases o conceptos para futuras predicciones.\n",
    "\n",
    "La aplicación de este concepto la podemos encontrar en y para la calificación de un crédito bancario, reconocimiento de imágenes y patrones, diagnósticos médicos, detección de fallos en aplicaciones industriales clasificar tendencias de mercados financieros,…\n",
    "\n",
    "Algunos de los métodos utilizados son los siguientes:\n",
    "    - Análisis discriminante.\n",
    "    - Arboles de decisiones.\n",
    "    - Reglas de clasificación.\n",
    "    - Redes neuronales."
   ]
  },
  {
   "cell_type": "code",
   "execution_count": 2,
   "metadata": {},
   "outputs": [
    {
     "name": "stderr",
     "output_type": "stream",
     "text": [
      "Using TensorFlow backend.\n"
     ]
    }
   ],
   "source": [
    "import numpy as np\n",
    "from keras.datasets import imdb\n",
    "from keras.preprocessing import sequence\n",
    "from sklearn.model_selection import train_test_split\n",
    "from sklearn import metrics\n",
    "from termcolor import colored\n",
    "import matplotlib.pyplot as plt\n",
    "\n",
    "def show_shapes(x_train, y_train, x_test, y_test, color='green'):\n",
    "    print(colored('Training shape:', color, attrs=['bold']))\n",
    "    print('  x_train.shape:', x_train.shape)\n",
    "    print('  y_train.shape:', y_train.shape)\n",
    "    print(colored('\\nTesting shape:', color, attrs=['bold']))\n",
    "    print('  x_test.shape:', x_test.shape)\n",
    "    print('  y_test.shape:', y_test.shape)\n",
    "    print('')\n",
    "    \n",
    "    "
   ]
  },
  {
   "cell_type": "markdown",
   "metadata": {},
   "source": [
    "## Naive Bayes\n",
    "\n",
    "Es una técnica de clasificación basada en el Teorema de Bayes con un supuesto de independencia entre los predictores. En términos simples, un clasificador Naive Bayes asume que la presencia de una característica particular en una clase no está relacionada con la presencia de cualquier otra característica. \n",
    "\n",
    "Por ejemplo, una fruta puede considerarse una manzana si es roja, redonda y de aproximadamente 3 pulgadas de diámetro. Incluso si estas características dependen unas de otras o de la existencia de las otras características, un Clasificador Naive Bayes consideraría que todas estas propiedades contribuyen independientemente a la probabilidad de que esta fruta sea una manzana.\n",
    "\n",
    "El modelo Ingenuo Bayesiano es fácil de construir y particularmente útil para conjuntos de datos muy grandes. Junto con la simplicidad, se sabe que Naive Bayes supera incluso a los métodos de clasificación altamente sofisticados.\n",
    "\n",
    "El teorema de Bayes proporciona una forma de calcular la probabilidad posterior P (c|x) a partir de P (c), P (x) y P (x|c). \n",
    "\n",
    "<img src=\"eq_bayes.png\" alt=\"Drawing\" style=\"width: 400px;\"/>\n",
    "\n",
    "\n",
    "                                        *Fig1. Teorema de bayes*\n",
    "\n",
    "\n",
    "Donde:\n",
    "\n",
    "    • P (c|x) es la probabilidad posterior de la clase (objetivo) dado el predictor (atributo).\n",
    "    • P (c) es la probabilidad previa de la clase.\n",
    "    • P (x|c) es la probabilidad del predictor de una clase determinada.\n",
    "    • P (x) es la probabilidad previa del predictor.\n"
   ]
  },
  {
   "cell_type": "code",
   "execution_count": 2,
   "metadata": {
    "scrolled": true
   },
   "outputs": [
    {
     "name": "stdout",
     "output_type": "stream",
     "text": [
      "\u001b[1m\u001b[32mTraining shape:\u001b[0m\n",
      "  x_train.shape: (25000, 2315)\n",
      "  y_train.shape: (25000,)\n",
      "\u001b[1m\u001b[32m\n",
      "Testing shape:\u001b[0m\n",
      "  x_test.shape: (25000, 2315)\n",
      "  y_test.shape: (25000,)\n",
      "\n",
      "\u001b[1m\u001b[32mPrediction accuracy:\u001b[0m\n",
      "50.132%\n",
      "\n",
      "\u001b[1m\u001b[32mConfusion matrix:\u001b[0m\n",
      "[[12453    47]\n",
      " [12420    80]]\n"
     ]
    },
    {
     "data": {
      "image/png": "[encoded data removed]",
      "text/plain": [
       "<Figure size 432x288 with 1 Axes>"
      ]
     },
     "metadata": {
      "needs_background": "light"
     },
     "output_type": "display_data"
    },
    {
     "name": "stdout",
     "output_type": "stream",
     "text": [
      "\u001b[1m\u001b[32mMAX prediction accuracy:\u001b[0m\n",
      "51.763668430335095%\n",
      "\n"
     ]
    }
   ],
   "source": [
    "from sklearn.naive_bayes import GaussianNB\n",
    "\n",
    "(x_train, y_train), (x_test, y_test) = imdb.load_data(path=\"imdb.npz\",\n",
    "                                                      num_words=None,\n",
    "                                                      skip_top=0,\n",
    "                                                      maxlen=None,\n",
    "                                                      seed=113,\n",
    "                                                      start_char=1,\n",
    "                                                      oov_char=2,\n",
    "                                                      index_from=3)\n",
    "\n",
    "maxlen = 2315\n",
    "color = 'green'\n",
    "x_train = sequence.pad_sequences(x_train, maxlen = maxlen)\n",
    "x_test = sequence.pad_sequences(x_test, maxlen = maxlen)\n",
    "show_shapes(x_train, y_train, x_test, y_test, color)\n",
    "\n",
    "naive = GaussianNB()\n",
    "naive.fit(x_train, y_train)\n",
    "y_pred = naive.predict(x_test)\n",
    "print(colored('Prediction accuracy:', color, attrs=['bold']))\n",
    "print(str(np.mean(y_pred == y_test) * 100) + '%' + '\\n') \n",
    "\n",
    "# Confussion matrix\n",
    "# \n",
    "#              Predicted = No | Predicted = Yes\n",
    "# Actual = No          X                X\n",
    "# Actual = Yes         X                X\n",
    "\n",
    "print(colored('Confusion matrix:', color, attrs=['bold']))\n",
    "print(metrics.confusion_matrix(y_test, y_pred))\n",
    "\n",
    "test_size_range = [0.1, 0.2, 0.3, 0.4, 0.5, 0.6, 0.7, 0.8, 0.9]\n",
    "y_scores = []\n",
    "for size in test_size_range:\n",
    "    x_train, x_test, y_train, y_test = train_test_split(x_train, y_train, test_size = size, random_state = 4)  \n",
    "    naive = GaussianNB()\n",
    "    naive.fit(x_train, y_train)\n",
    "    y_pred = naive.predict(x_test)\n",
    "    y_scores.append(metrics.accuracy_score(y_test, y_pred))\n",
    "\n",
    "\n",
    "plt.plot(test_size_range, y_scores)\n",
    "plt.xlabel('Value of test size')\n",
    "plt.ylabel('Testing Accuracy')\n",
    "plt.show()\n",
    "\n",
    "print(colored('MAX prediction accuracy:', color, attrs=['bold']))\n",
    "print(str(max(y_scores) * 100) + '%' + '\\n') "
   ]
  },
  {
   "cell_type": "markdown",
   "metadata": {},
   "source": [
    "## K-Nearest Neighbours \n",
    "\n",
    "Puede ser usado tanto para problemas de clasificación como de regresión. Sin embargo, es más ampliamente utilizado en problemas de clasificación en la industria. kNN es un algoritmo simple que almacena todos los casos disponibles y clasifica los nuevos casos por mayoría de votos de la variable k. El caso que se asigna a la clase es más común entre la variable k más cercana medida por una función de distancia.\n",
    "\n",
    "Estas funciones de distancia pueden ser Euclidiana, Manhattan, Minkowski y Hamming. Las primeras tres funciones se utilizan para la función continua y la cuarta (Hamming) para las variables categóricas. Si k = 1, entonces el caso se asigna simplemente a la clase de k más cercana. A veces, elegir k resulta ser un desafío al realizar el modelado kNN.\n",
    "\n",
    "<img src=\"knn.png\" alt=\"Drawing\" style=\"width: 400px;\"/>\n",
    "\n",
    "                                        Fig. 2 Clasificador de kNN.\n",
    "\n",
    "\n",
    "kNN puede aplicarse fácilmente a nuestras vidas reales. Si desea obtener información sobre una persona de la que no tiene información, ¡le gustaría conocer a sus amigos cercanos y los círculos que frecuenta y obtener acceso a su información!\n",
    "\n",
    "Cosas a considerar antes de seleccionar kNN:\n",
    "\n",
    "    • kNN es computacionalmente caro.\n",
    "    • Las variables deben normalizarse, de lo contrario, las variables de rango superior pueden sesgarla.\n",
    "    • Funciona en la etapa de pre-procesamiento, antes de optar por kNN como valor atípico, eliminación de \n",
    "    ruido.\n"
   ]
  },
  {
   "cell_type": "code",
   "execution_count": 8,
   "metadata": {},
   "outputs": [
    {
     "name": "stdout",
     "output_type": "stream",
     "text": [
      "\u001b[1m\u001b[32mTraining shape:\u001b[0m\n",
      "  x_train.shape: (25000, 2315)\n",
      "  y_train.shape: (25000,)\n",
      "\u001b[1m\u001b[32m\n",
      "Testing shape:\u001b[0m\n",
      "  x_test.shape: (25000, 2315)\n",
      "  y_test.shape: (25000,)\n",
      "\n"
     ]
    },
    {
     "data": {
      "image/png": "[encoded data removed]",
      "text/plain": [
       "<Figure size 432x288 with 1 Axes>"
      ]
     },
     "metadata": {
      "needs_background": "light"
     },
     "output_type": "display_data"
    },
    {
     "name": "stdout",
     "output_type": "stream",
     "text": [
      "\u001b[1m\u001b[32mMAX prediction accuracy:\u001b[0m\n",
      "50.4%\n",
      "\n"
     ]
    }
   ],
   "source": [
    "from sklearn.neighbors import KNeighborsClassifier\n",
    "\n",
    "(x_train, y_train), (x_test, y_test) = imdb.load_data(path=\"imdb.npz\",\n",
    "                                                      num_words=None,\n",
    "                                                      skip_top=0,\n",
    "                                                      maxlen=None,\n",
    "                                                      seed=113,\n",
    "                                                      start_char=1,\n",
    "                                                      oov_char=2,\n",
    "                                                      index_from=3)\n",
    "\n",
    "maxlen = 2315\n",
    "color = 'green'\n",
    "x_train = sequence.pad_sequences(x_train, maxlen = maxlen)\n",
    "x_test = sequence.pad_sequences(x_test, maxlen = maxlen)\n",
    "show_shapes(x_train, y_train, x_test, y_test, color)\n",
    "\n",
    "\n",
    "#knn = KNeighborsClassifier(n_neighbors=1, n_jobs = 8)\n",
    "#knn.fit(x_train, y_train)\n",
    "#y_pred = knn.predict(x_test)\n",
    "#print(colored('Prediction accuracy:', color, attrs=['bold']))\n",
    "#print(str(np.mean(y_pred == y_test) * 100) + '%' + '\\n') \n",
    "\n",
    "# Confussion matrix\n",
    "# \n",
    "#              Predicted = No | Predicted = Yes\n",
    "# Actual = No          X                X\n",
    "# Actual = Yes         X                X\n",
    "\n",
    "#print(colored('Confusion matrix:', color, attrs=['bold']))\n",
    "#print(metrics.confusion_matrix(y_test, y_pred))\n",
    "\n",
    "#neighbors = range(1, 5)\n",
    "#y_scores = []\n",
    "#for n in neighbors:\n",
    "#    knn = KNeighborsClassifier(n_neighbors = n, n_jobs = 8)\n",
    "#    knn.fit(x_train, y_train)\n",
    "#    y_pred = knn.predict(x_test)\n",
    "#    y_scores.append(metrics.accuracy_score(y_test, y_pred))\n",
    "\n",
    "\n",
    "#plt.plot(neighbors, y_scores)\n",
    "#plt.xlabel('Neighbors quantity')\n",
    "#plt.ylabel('Testing Accuracy')\n",
    "#plt.show()\n",
    "\n",
    "#print(colored('MAX prediction accuracy:', color, attrs=['bold']))\n",
    "#print(str(max(y_scores) * 100) + '%' + '\\n') \n",
    "\n",
    "#test_size_range = [0.1, 0.2, 0.3, 0.4, 0.5, 0.6, 0.7, 0.8, 0.9]\n",
    "test_size_range = [0.1, 0.2]\n",
    "y_scores = []\n",
    "for size in test_size_range:\n",
    "    x_train, x_test, y_train, y_test = train_test_split(x_train, y_train, test_size = size, random_state = 4)  \n",
    "    knn = KNeighborsClassifier(n_neighbors = 1, n_jobs = 8)\n",
    "    knn.fit(x_train, y_train)\n",
    "    y_pred = knn.predict(x_test)\n",
    "    y_scores.append(metrics.accuracy_score(y_test, y_pred))\n",
    "\n",
    "\n",
    "plt.plot(test_size_range, y_scores)\n",
    "plt.xlabel('Value of test size')\n",
    "plt.ylabel('Testing Accuracy')\n",
    "plt.show()\n",
    "\n",
    "print(colored('MAX prediction accuracy:', color, attrs=['bold']))\n",
    "print(str(max(y_scores) * 100) + '%' + '\\n') "
   ]
  },
  {
   "cell_type": "markdown",
   "metadata": {},
   "source": [
    "## Support Vector Machines\n",
    "\n",
    "En este método de clasificación, se traza cada elemento de datos como un punto en el espacio n-dimensional (donde n es el número de entidades que tiene) con el valor de cada entidad como el valor de una coordenada en particular.\n",
    "\n",
    "Por ejemplo, si solo tuviéramos dos características como la altura y la longitud del cabello de un individuo, primero dibujaríamos estas dos variables en un espacio bidimensional donde cada punto tiene dos coordenadas (estas coordenadas se conocen como vectores de soporte)\n",
    "\n",
    "<img src=\"svm1.png\" alt=\"Drawing\" style=\"width: 400px;\"/>\n",
    "\n",
    "                                        Fig. 3 Ejemplo Clasificador SVM.\n",
    "\n",
    "\n",
    "Ahora, encontraremos una línea que divide los datos entre los dos grupos de datos clasificados de manera diferente. Esta será la línea tal que las distancias desde el punto más cercano en cada uno de los dos grupos estarán más alejadas.\n",
    "\n",
    "<img src=\"svm2.png\" alt=\"Drawing\" style=\"width: 400px;\"/>\n",
    "\n",
    "                                        Fig. 4 Ejemplo Clasificador SVM.\n",
    "                                    \n",
    "En el ejemplo que se muestra arriba, la línea que divide los datos en dos grupos clasificados de manera diferente es la línea negra, ya que los dos puntos más cercanos son los más alejados de la línea. Esta línea es nuestro clasificador. Luego, dependiendo de dónde caigan los datos de prueba a ambos lados de la línea, esa es la clase en la que podemos clasificar los nuevos datos.\n"
   ]
  },
  {
   "cell_type": "code",
   "execution_count": null,
   "metadata": {},
   "outputs": [
    {
     "name": "stdout",
     "output_type": "stream",
     "text": [
      "\u001b[1m\u001b[32mTraining shape:\u001b[0m\n",
      "  x_train.shape: (25000, 2315)\n",
      "  y_train.shape: (25000,)\n",
      "\u001b[1m\u001b[32m\n",
      "Testing shape:\u001b[0m\n",
      "  x_test.shape: (25000, 2315)\n",
      "  y_test.shape: (25000,)\n",
      "\n"
     ]
    }
   ],
   "source": [
    "from sklearn import svm\n",
    "\n",
    "(x_train, y_train), (x_test, y_test) = imdb.load_data(path=\"imdb.npz\",\n",
    "                                                      num_words=None,\n",
    "                                                      skip_top=0,\n",
    "                                                      maxlen=None,\n",
    "                                                      seed=113,\n",
    "                                                      start_char=1,\n",
    "                                                      oov_char=2,\n",
    "                                                      index_from=3)\n",
    "\n",
    "maxlen = 2315\n",
    "color = 'green'\n",
    "x_train = sequence.pad_sequences(x_train, maxlen = maxlen)\n",
    "x_test = sequence.pad_sequences(x_test, maxlen = maxlen)\n",
    "show_shapes(x_train, y_train, x_test, y_test, color)\n",
    "\n",
    "#vector = svm.SVC(kernel='linear')\n",
    "#vector.fit(x_train, y_train)\n",
    "#y_pred = vector.predict(x_test)\n",
    "#print(colored('Prediction accuracy:', color, attrs=['bold']))\n",
    "#print(str(np.mean(y_pred == y_test) * 100) + '%' + '\\n') \n",
    "\n",
    "# Confussion matrix\n",
    "# \n",
    "#              Predicted = No | Predicted = Yes\n",
    "# Actual = No          X                X\n",
    "# Actual = Yes         X                X\n",
    "\n",
    "#print(colored('Confusion matrix:', color, attrs=['bold']))\n",
    "#print(metrics.confusion_matrix(y_test, y_pred))\n",
    "\n",
    "#test_size_range = [0.1, 0.2, 0.3, 0.4, 0.5, 0.6, 0.7, 0.8, 0.9]\n",
    "test_size_range = [0.1, 0.2]\n",
    "y_scores = []\n",
    "for size in test_size_range:\n",
    "    x_train, x_test, y_train, y_test = train_test_split(x_train, y_train, test_size = size, random_state = 4)  \n",
    "    vector = svm.SVC(kernel='linear')\n",
    "    vector.fit(x_train, y_train)\n",
    "    y_pred = vector.predict(x_test)\n",
    "    y_scores.append(metrics.accuracy_score(y_test, y_pred))\n",
    "\n",
    "\n",
    "plt.plot(test_size_range, y_scores)\n",
    "plt.xlabel('Value of test size')\n",
    "plt.ylabel('Testing Accuracy')\n",
    "plt.show()\n",
    "\n",
    "print(colored('MAX prediction accuracy:', color, attrs=['bold']))\n",
    "print(str(max(y_scores) * 100) + '%' + '\\n') \n"
   ]
  },
  {
   "cell_type": "markdown",
   "metadata": {},
   "source": [
    "## Decision tree\n",
    "\n",
    "La motivación de este clasificador radica en el contexto de que se tienen varias clases de datos y dentro de esas clases existen subclases, por lo tanto, se puede seguir un camino para la selección de la clase de datos, que esta a su vez se relaciona con los datos que fueron utilizados al momento de entrenar el clasificador.\n",
    "\n",
    "Diciéndolo de otro modo el árbol de clasificación, repetitivamente divide el área de búsqueda de los datos, en subpartes identificadas por un delimitador.\n",
    "\n",
    "<img src=\"tree.png\" alt=\"Drawing\" style=\"width: 600px;\"/>\n",
    "\n",
    "                                    Fig. 5 Ejemplo árbol de decisión sobre el clima.\n",
    "                                \n",
    "Aunque en estas subclases divididas por los delimitadores podemos contener impurezas, lo cual significa que datos que pertenecen a una subclase se encuentran también en otra. En este caso nos puede ayudar la entropía que mide la aleatoriedad de los elementos en las clases, lo cual ayuda a determinar el grado de impureza de los datos.\n",
    "\n",
    "<img src=\"entropy.jpg\" alt=\"Drawing\" style=\"width: 300px;\"/>\n",
    "\n",
    "                                                    Fig. 6 Entropía.\n",
    "                                "
   ]
  },
  {
   "cell_type": "code",
   "execution_count": 5,
   "metadata": {},
   "outputs": [
    {
     "name": "stdout",
     "output_type": "stream",
     "text": [
      "\u001b[1m\u001b[32mTraining shape:\u001b[0m\n",
      "  x_train.shape: (25000, 2315)\n",
      "  y_train.shape: (25000,)\n",
      "\u001b[1m\u001b[32m\n",
      "Testing shape:\u001b[0m\n",
      "  x_test.shape: (25000, 2315)\n",
      "  y_test.shape: (25000,)\n",
      "\n"
     ]
    },
    {
     "data": {
      "image/png": "[encoded data removed]",
      "text/plain": [
       "<Figure size 432x288 with 1 Axes>"
      ]
     },
     "metadata": {
      "needs_background": "light"
     },
     "output_type": "display_data"
    },
    {
     "name": "stdout",
     "output_type": "stream",
     "text": [
      "\u001b[1m\u001b[32mMAX prediction accuracy:\u001b[0m\n",
      "52.557319223985886%\n",
      "\n"
     ]
    }
   ],
   "source": [
    "from sklearn.tree import DecisionTreeClassifier\n",
    "\n",
    "\n",
    "(x_train, y_train), (x_test, y_test) = imdb.load_data(path=\"imdb.npz\",\n",
    "                                                      num_words=None,\n",
    "                                                      skip_top=0,\n",
    "                                                      maxlen=None,\n",
    "                                                      seed=113,\n",
    "                                                      start_char=1,\n",
    "                                                      oov_char=2,\n",
    "                                                      index_from=3)\n",
    "\n",
    "maxlen = 2315\n",
    "color = 'green'\n",
    "x_train = sequence.pad_sequences(x_train, maxlen = maxlen)\n",
    "x_test = sequence.pad_sequences(x_test, maxlen = maxlen)\n",
    "show_shapes(x_train, y_train, x_test, y_test, color)\n",
    "\n",
    "#tree = DecisionTreeClassifier(criterion = \"entropy\", random_state = 100, max_depth=3, min_samples_leaf=5)\n",
    "#tree.fit(X_train, y_train)\n",
    "#y_pred = tree.predict(x_test)\n",
    "#print(colored('Prediction accuracy:', color, attrs=['bold']))\n",
    "#print(str(np.mean(y_pred == y_test) * 100) + '%' + '\\n') \n",
    "\n",
    "# Confussion matrix\n",
    "# \n",
    "#              Predicted = No | Predicted = Yes\n",
    "# Actual = No          X                X\n",
    "# Actual = Yes         X                X\n",
    "\n",
    "#print(colored('Confusion matrix:', color, attrs=['bold']))\n",
    "#print(metrics.confusion_matrix(y_test, y_pred))\n",
    "\n",
    "test_size_range = [0.1, 0.2, 0.3, 0.4, 0.5, 0.6, 0.7, 0.8, 0.9]\n",
    "y_scores = []\n",
    "for size in test_size_range:\n",
    "    x_train, x_test, y_train, y_test = train_test_split(x_train, y_train, test_size = size, random_state = 4)  \n",
    "    tree = DecisionTreeClassifier(criterion = \"entropy\", random_state = 100, max_depth=10, min_samples_leaf=2)\n",
    "    tree.fit(x_train, y_train)\n",
    "    y_pred = tree.predict(x_test)\n",
    "    y_scores.append(metrics.accuracy_score(y_test, y_pred))\n",
    "\n",
    "\n",
    "plt.plot(test_size_range, y_scores)\n",
    "plt.xlabel('Value of test size')\n",
    "plt.ylabel('Testing Accuracy')\n",
    "plt.show()\n",
    "\n",
    "print(colored('MAX prediction accuracy:', color, attrs=['bold']))\n",
    "print(str(max(y_scores) * 100) + '%' + '\\n') "
   ]
  },
  {
   "cell_type": "markdown",
   "metadata": {},
   "source": [
    "## Random Forest\n",
    "\n",
    "Este algoritmo de clasificación esta basado en los arboles de decisión. El algoritmo de bosque aleatorio genera un conjunto de arboles de decisión a los cuales entrena con un conjunto de datos aleatorios, una vez que cada árbol tiene la clasificación de las clases y subclases, se procede a realizar una votación para la decisión final de las clases. Esto ayuda a solventar el problema de sobre alimentación que pueden llegar a tener los arboles de clasificación.\n",
    "\n",
    "Para la votación de los árboles de selección se puede dar mayor peso a las clases de los árboles con menor porcentaje de error y a su vez darles menor peso a los árboles con mayor porcentaje de error.\n",
    "\n",
    "<img src=\"forest.png\" alt=\"Drawing\" style=\"width: 400px;\"/>\n",
    "\n",
    "                                    Fig. 7 Ejemplo simple de un bosque aleatorio.\n",
    "\n",
    "\n",
    "Se puede comparar este algoritmo con el de vecinos cercanos dado que ambos usan un esquema en el cual se la da un peso a una entidad (vecino u árbol). Y en base a eso los algoritmos realizan sus predicciones."
   ]
  },
  {
   "cell_type": "code",
   "execution_count": 7,
   "metadata": {},
   "outputs": [
    {
     "name": "stdout",
     "output_type": "stream",
     "text": [
      "\u001b[1m\u001b[32mTraining shape:\u001b[0m\n",
      "  x_train.shape: (25000, 2315)\n",
      "  y_train.shape: (25000,)\n",
      "\u001b[1m\u001b[32m\n",
      "Testing shape:\u001b[0m\n",
      "  x_test.shape: (25000, 2315)\n",
      "  y_test.shape: (25000,)\n",
      "\n",
      "\u001b[1m\u001b[32mPrediction accuracy:\u001b[0m\n",
      "50.3%\n",
      "\n",
      "\u001b[1m\u001b[32mConfusion matrix:\u001b[0m\n",
      "[[6314 6186]\n",
      " [6239 6261]]\n",
      "\u001b[1m\u001b[32mMAX prediction accuracy:\u001b[0m\n",
      "50.3%\n",
      "\n"
     ]
    },
    {
     "data": {
      "image/png": "[encoded data removed]",
      "text/plain": [
       "<Figure size 432x288 with 1 Axes>"
      ]
     },
     "metadata": {
      "needs_background": "light"
     },
     "output_type": "display_data"
    },
    {
     "name": "stdout",
     "output_type": "stream",
     "text": [
      "\u001b[1m\u001b[32mMAX prediction accuracy:\u001b[0m\n",
      "53.086419753086425%\n",
      "\n"
     ]
    }
   ],
   "source": [
    "from sklearn.ensemble import RandomForestRegressor\n",
    "\n",
    "(x_train, y_train), (x_test, y_test) = imdb.load_data(path=\"imdb.npz\",\n",
    "                                                      num_words=None,\n",
    "                                                      skip_top=0,\n",
    "                                                      maxlen=None,\n",
    "                                                      seed=113,\n",
    "                                                      start_char=1,\n",
    "                                                      oov_char=2,\n",
    "                                                      index_from=3)\n",
    "\n",
    "maxlen = 2315\n",
    "color = 'green'\n",
    "x_train = sequence.pad_sequences(x_train, maxlen = maxlen)\n",
    "x_test = sequence.pad_sequences(x_test, maxlen = maxlen)\n",
    "show_shapes(x_train, y_train, x_test, y_test, color)\n",
    "\n",
    "\n",
    "forest = RandomForestRegressor(n_estimators = 1, random_state = 42, n_jobs = 8)\n",
    "forest.fit(x_train, y_train)\n",
    "y_pred = forest.predict(x_test)\n",
    "print(colored('Prediction accuracy:', color, attrs=['bold']))\n",
    "print(str(np.mean(y_pred == y_test) * 100) + '%' + '\\n') \n",
    "\n",
    "# Confussion matrix\n",
    "# \n",
    "#              Predicted = No | Predicted = Yes\n",
    "# Actual = No          X                X\n",
    "# Actual = Yes         X                X\n",
    "\n",
    "print(colored('Confusion matrix:', color, attrs=['bold']))\n",
    "print(metrics.confusion_matrix(y_test, y_pred))\n",
    "\n",
    "#forests = range(1, 5)\n",
    "#y_scores = []\n",
    "#for f in forests:\n",
    "#    forest = RandomForestRegressor(n_estimators = f, random_state = 42, n_jobs = 8)\n",
    "#    forest.fit(x_train, y_train)\n",
    "#    y_pred = forest.predict(x_test)\n",
    "#    y_scores.append(metrics.accuracy_score(y_test, y_pred))\n",
    "\n",
    "\n",
    "#plt.plot(forests, y_scores)\n",
    "#plt.xlabel('Trees quantity')\n",
    "#plt.ylabel('Testing Accuracy')\n",
    "#plt.show()\n",
    "\n",
    "print(colored('MAX prediction accuracy:', color, attrs=['bold']))\n",
    "print(str(max(y_scores) * 100) + '%' + '\\n') \n",
    "\n",
    "test_size_range = [0.1, 0.2, 0.3, 0.4, 0.5, 0.6, 0.7, 0.8, 0.9]\n",
    "y_scores = []\n",
    "for size in test_size_range:\n",
    "    x_train, x_test, y_train, y_test = train_test_split(x_train, y_train, test_size = size, random_state = 4)  \n",
    "    forest = RandomForestRegressor(n_estimators = 1, random_state = 42, n_jobs = 8)\n",
    "    forest.fit(x_train, y_train)\n",
    "    y_pred = forest.predict(x_test)\n",
    "    y_scores.append(metrics.accuracy_score(y_test, y_pred))\n",
    "\n",
    "\n",
    "plt.plot(test_size_range, y_scores)\n",
    "plt.xlabel('Value of test size')\n",
    "plt.ylabel('Testing Accuracy')\n",
    "plt.show()\n",
    "\n",
    "print(colored('MAX prediction accuracy:', color, attrs=['bold']))\n",
    "print(str(max(y_scores) * 100) + '%' + '\\n') "
   ]
  },
  {
   "cell_type": "markdown",
   "metadata": {},
   "source": [
    "## REFERENCIAS\n",
    "\n",
    "1. Keras: The Python Deep Learning library, IMDB Movie reviews sentiment classification, https://keras.io/datasets/#imdb-movie-reviews-sentiment-classification\n",
    "\n",
    "2. Essentials of Machine Learning Algorithms (with Python and R Codes), https://www.analyticsvidhya.com/blog/2017/09/common-machine-learning-algorithms/\n",
    "\n",
    "3. Machine Learning algorithms, Decision Tree, https://www.hackerearth.com/practice/machine-learning/machine-learning-algorithms/ml-decision-tree/tutorial/\n",
    "\n",
    "4. Random Forest, https://en.wikipedia.org/wiki/Random_forest "
   ]
  },
  {
   "cell_type": "code",
   "execution_count": null,
   "metadata": {},
   "outputs": [],
   "source": []
  }
 ],
 "metadata": {
  "kernelspec": {
   "display_name": "Python 3",
   "language": "python",
   "name": "python3"
  },
  "language_info": {
   "codemirror_mode": {
    "name": "ipython",
    "version": 3
   },
   "file_extension": ".py",
   "mimetype": "text/x-python",
   "name": "python",
   "nbconvert_exporter": "python",
   "pygments_lexer": "ipython3",
   "version": "3.6.7"
  }
 },
 "nbformat": 4,
 "nbformat_minor": 2
}
